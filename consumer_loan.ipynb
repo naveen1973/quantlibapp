{
 "cells": [
  {
   "cell_type": "markdown",
   "metadata": {},
   "source": [
    "# Loan Calculation Example \n",
    "\n",
    "```python\n",
    "from quantlibapp.core import ConsumerLoan\n",
    "```\n",
    "\n",
    "The class follows three steps\n",
    "1. ConsumerLoan.input\n",
    "2. ConsumerLoan.process()\n",
    "3. ConsumerLoan.output"
   ]
  },
  {
   "cell_type": "code",
   "execution_count": 2,
   "metadata": {},
   "outputs": [],
   "source": [
    "## Import packages\n",
    "# ! pip install git+https://github.com/quantransform/quantlibapp\n",
    "from quantlibapp.core import ConsumerLoan\n",
    "import qgrid"
   ]
  },
  {
   "cell_type": "code",
   "execution_count": 45,
   "metadata": {},
   "outputs": [
    {
     "data": {
      "application/vnd.jupyter.widget-view+json": {
       "model_id": "bc26e9ddb1ba4fb0815b877f58c2e133",
       "version_major": 2,
       "version_minor": 0
      },
      "text/plain": [
       "Tab(children=(QgridWidget(grid_options={'fullWidthRows': True, 'syncColumnCellResize': True, 'forceFitColumns'…"
      ]
     },
     "metadata": {},
     "output_type": "display_data"
    }
   ],
   "source": [
    "from quantlibapp.core import ConsumerLoan\n",
    "ConsumerLoanClass = ConsumerLoan()\n",
    "ConsumerLoanClass.input"
   ]
  },
  {
   "cell_type": "code",
   "execution_count": 46,
   "metadata": {},
   "outputs": [
    {
     "data": {
      "application/vnd.jupyter.widget-view+json": {
       "model_id": "d0e4e9d669e84d138467bf8c55add659",
       "version_major": 2,
       "version_minor": 0
      },
      "text/plain": [
       "QgridWidget(grid_options={'fullWidthRows': True, 'syncColumnCellResize': True, 'forceFitColumns': True, 'defau…"
      ]
     },
     "metadata": {},
     "output_type": "display_data"
    }
   ],
   "source": [
    "## Process and Get Output\n",
    "ConsumerLoanClass.process()\n",
    "qgrid.QgridWidget(df=ConsumerLoanClass.output)"
   ]
  }
 ],
 "metadata": {
  "kernelspec": {
   "display_name": "Python 3",
   "language": "python",
   "name": "python3"
  },
  "language_info": {
   "codemirror_mode": {
    "name": "ipython",
    "version": 3
   },
   "file_extension": ".py",
   "mimetype": "text/x-python",
   "name": "python",
   "nbconvert_exporter": "python",
   "pygments_lexer": "ipython3",
   "version": "3.6.2"
  }
 },
 "nbformat": 4,
 "nbformat_minor": 2
}
