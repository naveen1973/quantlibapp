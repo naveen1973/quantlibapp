{
 "cells": [
  {
   "cell_type": "code",
   "execution_count": 1,
   "metadata": {},
   "outputs": [
    {
     "ename": "SyntaxError",
     "evalue": "invalid syntax (core.py, line 43)",
     "output_type": "error",
     "traceback": [
      "Traceback \u001b[0;36m(most recent call last)\u001b[0m:\n",
      "  File \u001b[1;32m\"/Users/jeremy/anaconda/envs/yobota/lib/python3.6/site-packages/IPython/core/interactiveshell.py\"\u001b[0m, line \u001b[1;32m2963\u001b[0m, in \u001b[1;35mrun_code\u001b[0m\n    exec(code_obj, self.user_global_ns, self.user_ns)\n",
      "  File \u001b[1;32m\"<ipython-input-1-9ec47bfee976>\"\u001b[0m, line \u001b[1;32m1\u001b[0m, in \u001b[1;35m<module>\u001b[0m\n    from quantlibapp.core import ConsumerLoan\n",
      "\u001b[0;36m  File \u001b[0;32m\"/Users/jeremy/Desktop/quantlibapp/quantlibapp/__init__.py\"\u001b[0;36m, line \u001b[0;32m1\u001b[0;36m, in \u001b[0;35m<module>\u001b[0;36m\u001b[0m\n\u001b[0;31m    from . import core\u001b[0m\n",
      "\u001b[0;36m  File \u001b[0;32m\"/Users/jeremy/Desktop/quantlibapp/quantlibapp/core.py\"\u001b[0;36m, line \u001b[0;32m43\u001b[0m\n\u001b[0;31m    'APR' = [0.05],\u001b[0m\n\u001b[0m          ^\u001b[0m\n\u001b[0;31mSyntaxError\u001b[0m\u001b[0;31m:\u001b[0m invalid syntax\n"
     ]
    }
   ],
   "source": [
    "from quantlibapp.core import ConsumerLoan\n",
    "import datetime\n",
    "notional_amount = 25000\n",
    "term_in_tenor = 24\n",
    "annual_percentage_rate = 0.1\n",
    "effective_date = datetime.datetime.today()\n",
    "repayment_day = 10"
   ]
  },
  {
   "cell_type": "code",
   "execution_count": 21,
   "metadata": {},
   "outputs": [
    {
     "ename": "NameError",
     "evalue": "name 'datetime64' is not defined",
     "output_type": "error",
     "traceback": [
      "\u001b[0;31m---------------------------------------------------------------------------\u001b[0m",
      "\u001b[0;31mNameError\u001b[0m                                 Traceback (most recent call last)",
      "\u001b[0;32m<ipython-input-21-f8ed9eae8bc3>\u001b[0m in \u001b[0;36m<module>\u001b[0;34m()\u001b[0m\n\u001b[1;32m      2\u001b[0m \u001b[0;32mimport\u001b[0m \u001b[0mipywidgets\u001b[0m \u001b[0;32mas\u001b[0m \u001b[0mwidgets\u001b[0m\u001b[0;34m\u001b[0m\u001b[0m\n\u001b[1;32m      3\u001b[0m \u001b[0;34m\u001b[0m\u001b[0m\n\u001b[0;32m----> 4\u001b[0;31m \u001b[0mConsumerLoanClass\u001b[0m \u001b[0;34m=\u001b[0m \u001b[0mConsumerLoan\u001b[0m\u001b[0;34m(\u001b[0m\u001b[0;34m)\u001b[0m\u001b[0;34m\u001b[0m\u001b[0m\n\u001b[0m\u001b[1;32m      5\u001b[0m \u001b[0mConsumerLoanClass\u001b[0m\u001b[0;34m.\u001b[0m\u001b[0mdfInputQG\u001b[0m\u001b[0;34m\u001b[0m\u001b[0m\n",
      "\u001b[0;32m<ipython-input-20-df742020a774>\u001b[0m in \u001b[0;36m__init__\u001b[0;34m(self)\u001b[0m\n\u001b[1;32m     29\u001b[0m \u001b[0;34m\u001b[0m\u001b[0m\n\u001b[1;32m     30\u001b[0m     \u001b[0;32mdef\u001b[0m \u001b[0m__init__\u001b[0m\u001b[0;34m(\u001b[0m\u001b[0mself\u001b[0m\u001b[0;34m)\u001b[0m\u001b[0;34m:\u001b[0m\u001b[0;34m\u001b[0m\u001b[0m\n\u001b[0;32m---> 31\u001b[0;31m         \u001b[0mself\u001b[0m\u001b[0;34m.\u001b[0m\u001b[0m_inputScreen\u001b[0m\u001b[0;34m(\u001b[0m\u001b[0;34m)\u001b[0m\u001b[0;34m\u001b[0m\u001b[0m\n\u001b[0m\u001b[1;32m     32\u001b[0m         \u001b[0mself\u001b[0m\u001b[0;34m.\u001b[0m\u001b[0mnotional_amount\u001b[0m \u001b[0;34m=\u001b[0m \u001b[0mself\u001b[0m\u001b[0;34m.\u001b[0m\u001b[0mdfInput\u001b[0m\u001b[0;34m.\u001b[0m\u001b[0mloc\u001b[0m\u001b[0;34m[\u001b[0m\u001b[0;36m0\u001b[0m\u001b[0;34m,\u001b[0m \u001b[0;34m'Notional Amount'\u001b[0m\u001b[0;34m]\u001b[0m\u001b[0;34m\u001b[0m\u001b[0m\n\u001b[1;32m     33\u001b[0m         \u001b[0mself\u001b[0m\u001b[0;34m.\u001b[0m\u001b[0mterm_in_tenor\u001b[0m \u001b[0;34m=\u001b[0m \u001b[0mself\u001b[0m\u001b[0;34m.\u001b[0m\u001b[0mdfInput\u001b[0m\u001b[0;34m.\u001b[0m\u001b[0mloc\u001b[0m\u001b[0;34m[\u001b[0m\u001b[0;36m0\u001b[0m\u001b[0;34m,\u001b[0m \u001b[0;34m'Term in Months'\u001b[0m\u001b[0;34m]\u001b[0m\u001b[0;34m\u001b[0m\u001b[0m\n",
      "\u001b[0;32m<ipython-input-20-df742020a774>\u001b[0m in \u001b[0;36m_inputScreen\u001b[0;34m(self)\u001b[0m\n\u001b[1;32m     44\u001b[0m                                      \u001b[0;34m'Repayment Day'\u001b[0m\u001b[0;34m:\u001b[0m \u001b[0;34m[\u001b[0m\u001b[0;36m10\u001b[0m\u001b[0;34m]\u001b[0m\u001b[0;34m,\u001b[0m\u001b[0;34m\u001b[0m\u001b[0m\n\u001b[1;32m     45\u001b[0m                                      'Effective Date': [datetime.datetime.today()]})\n\u001b[0;32m---> 46\u001b[0;31m         \u001b[0mself\u001b[0m\u001b[0;34m.\u001b[0m\u001b[0mdfInput\u001b[0m\u001b[0;34m[\u001b[0m\u001b[0;34m'Effective Date'\u001b[0m\u001b[0;34m]\u001b[0m \u001b[0;34m=\u001b[0m \u001b[0mself\u001b[0m\u001b[0;34m.\u001b[0m\u001b[0mdfInput\u001b[0m\u001b[0;34m[\u001b[0m\u001b[0;34m'Effective Date'\u001b[0m\u001b[0;34m]\u001b[0m\u001b[0;34m.\u001b[0m\u001b[0mastype\u001b[0m\u001b[0;34m(\u001b[0m\u001b[0mdatetime64\u001b[0m\u001b[0;34m[\u001b[0m\u001b[0mns\u001b[0m\u001b[0;34m]\u001b[0m\u001b[0;34m)\u001b[0m\u001b[0;34m\u001b[0m\u001b[0m\n\u001b[0m\u001b[1;32m     47\u001b[0m         self.dfInputQG = qgrid.QgridWidget(df=self.dfInput, \n\u001b[1;32m     48\u001b[0m                                            show_toolbar=False)\n",
      "\u001b[0;31mNameError\u001b[0m: name 'datetime64' is not defined"
     ]
    }
   ],
   "source": [
    "import qgrid\n",
    "import ipywidgets as widgets \n",
    "\n",
    "ConsumerLoanClass = ConsumerLoan()\n",
    "ConsumerLoanClass.dfInputQG"
   ]
  },
  {
   "cell_type": "code",
   "execution_count": 12,
   "metadata": {},
   "outputs": [
    {
     "data": {
      "text/html": [
       "<div>\n",
       "<style scoped>\n",
       "    .dataframe tbody tr th:only-of-type {\n",
       "        vertical-align: middle;\n",
       "    }\n",
       "\n",
       "    .dataframe tbody tr th {\n",
       "        vertical-align: top;\n",
       "    }\n",
       "\n",
       "    .dataframe thead th {\n",
       "        text-align: right;\n",
       "    }\n",
       "</style>\n",
       "<table border=\"1\" class=\"dataframe\">\n",
       "  <thead>\n",
       "    <tr style=\"text-align: right;\">\n",
       "      <th></th>\n",
       "      <th>End_Date</th>\n",
       "      <th>Start_Date</th>\n",
       "      <th>Day_Count</th>\n",
       "      <th>Balance_Start</th>\n",
       "      <th>Balance_End</th>\n",
       "      <th>Interest</th>\n",
       "      <th>Principal</th>\n",
       "      <th>Payment</th>\n",
       "    </tr>\n",
       "  </thead>\n",
       "  <tbody>\n",
       "    <tr>\n",
       "      <th>0</th>\n",
       "      <td>May 10th, 2018</td>\n",
       "      <td>April 13th, 2018</td>\n",
       "      <td>0.075000</td>\n",
       "      <td>100000.00</td>\n",
       "      <td>83471.06</td>\n",
       "      <td>375.00</td>\n",
       "      <td>16528.94</td>\n",
       "      <td>16903.94</td>\n",
       "    </tr>\n",
       "    <tr>\n",
       "      <th>1</th>\n",
       "      <td>June 11th, 2018</td>\n",
       "      <td>May 10th, 2018</td>\n",
       "      <td>0.086111</td>\n",
       "      <td>83471.06</td>\n",
       "      <td>66926.51</td>\n",
       "      <td>359.39</td>\n",
       "      <td>16544.55</td>\n",
       "      <td>16903.94</td>\n",
       "    </tr>\n",
       "    <tr>\n",
       "      <th>2</th>\n",
       "      <td>July 10th, 2018</td>\n",
       "      <td>June 11th, 2018</td>\n",
       "      <td>0.080556</td>\n",
       "      <td>66926.51</td>\n",
       "      <td>50292.14</td>\n",
       "      <td>269.57</td>\n",
       "      <td>16634.37</td>\n",
       "      <td>16903.94</td>\n",
       "    </tr>\n",
       "    <tr>\n",
       "      <th>3</th>\n",
       "      <td>August 10th, 2018</td>\n",
       "      <td>July 10th, 2018</td>\n",
       "      <td>0.083333</td>\n",
       "      <td>50292.14</td>\n",
       "      <td>33597.75</td>\n",
       "      <td>209.55</td>\n",
       "      <td>16694.39</td>\n",
       "      <td>16903.94</td>\n",
       "    </tr>\n",
       "    <tr>\n",
       "      <th>4</th>\n",
       "      <td>September 10th, 2018</td>\n",
       "      <td>August 10th, 2018</td>\n",
       "      <td>0.083333</td>\n",
       "      <td>33597.75</td>\n",
       "      <td>16833.80</td>\n",
       "      <td>139.99</td>\n",
       "      <td>16763.95</td>\n",
       "      <td>16903.94</td>\n",
       "    </tr>\n",
       "    <tr>\n",
       "      <th>5</th>\n",
       "      <td>October 10th, 2018</td>\n",
       "      <td>September 10th, 2018</td>\n",
       "      <td>0.083333</td>\n",
       "      <td>16833.80</td>\n",
       "      <td>0.00</td>\n",
       "      <td>70.14</td>\n",
       "      <td>16833.80</td>\n",
       "      <td>16903.94</td>\n",
       "    </tr>\n",
       "  </tbody>\n",
       "</table>\n",
       "</div>"
      ],
      "text/plain": [
       "               End_Date            Start_Date  Day_Count  Balance_Start  \\\n",
       "0        May 10th, 2018      April 13th, 2018   0.075000      100000.00   \n",
       "1       June 11th, 2018        May 10th, 2018   0.086111       83471.06   \n",
       "2       July 10th, 2018       June 11th, 2018   0.080556       66926.51   \n",
       "3     August 10th, 2018       July 10th, 2018   0.083333       50292.14   \n",
       "4  September 10th, 2018     August 10th, 2018   0.083333       33597.75   \n",
       "5    October 10th, 2018  September 10th, 2018   0.083333       16833.80   \n",
       "\n",
       "   Balance_End  Interest  Principal   Payment  \n",
       "0     83471.06    375.00   16528.94  16903.94  \n",
       "1     66926.51    359.39   16544.55  16903.94  \n",
       "2     50292.14    269.57   16634.37  16903.94  \n",
       "3     33597.75    209.55   16694.39  16903.94  \n",
       "4     16833.80    139.99   16763.95  16903.94  \n",
       "5         0.00     70.14   16833.80  16903.94  "
      ]
     },
     "execution_count": 12,
     "metadata": {},
     "output_type": "execute_result"
    }
   ],
   "source": [
    "ConsumerLoanClass.process()\n",
    "ConsumerLoanClass.output"
   ]
  }
 ],
 "metadata": {
  "kernelspec": {
   "display_name": "Python 3",
   "language": "python",
   "name": "python3"
  },
  "language_info": {
   "codemirror_mode": {
    "name": "ipython",
    "version": 3
   },
   "file_extension": ".py",
   "mimetype": "text/x-python",
   "name": "python",
   "nbconvert_exporter": "python",
   "pygments_lexer": "ipython3",
   "version": "3.6.2"
  }
 },
 "nbformat": 4,
 "nbformat_minor": 2
}
