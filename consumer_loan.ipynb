{
 "cells": [
  {
   "cell_type": "markdown",
   "metadata": {},
   "source": [
    "# Loan Calculation Example \n",
    "\n",
    "## Overview\n",
    "```python\n",
    "from quantlibapp.core import ConsumerLoan\n",
    "```\n",
    "\n",
    "The class follows three steps\n",
    "1. ConsumerLoan.input\n",
    "2. ConsumerLoan.process()\n",
    "3. ConsumerLoan.output\n",
    "\n",
    "## System Requirements \n",
    "You will need the latest jupyterlab with ipywidgets enabled. This can be found on https://ipywidgets.readthedocs.io/en/latest/user_install.html\n",
    "\n",
    "You will also need qgrid installed https://github.com/quantopian/qgrid.\n",
    "\n",
    "All other packages will be installed when you install quantlibapp.\n",
    "\n",
    "Alternatively, please go to https://www.quantransform.co.uk to run the analysis on my website.\n",
    "\n",
    "\n"
   ]
  },
  {
   "cell_type": "markdown",
   "metadata": {},
   "source": [
    "## Example How to Run ConsumerLoan"
   ]
  },
  {
   "cell_type": "markdown",
   "metadata": {},
   "source": [
    "### Impoert quantlibapp\n",
    "Please do \"! pip install git+https://github.com/quantransform/quantlibapp\" if you have not installed quantlibapp"
   ]
  },
  {
   "cell_type": "code",
   "execution_count": 2,
   "metadata": {},
   "outputs": [],
   "source": [
    "## Import packages\n",
    "# ! pip install git+https://github.com/quantransform/quantlibapp\n",
    "from quantlibapp.core import ConsumerLoan\n",
    "import qgrid"
   ]
  },
  {
   "cell_type": "markdown",
   "metadata": {},
   "source": [
    "### Input\n",
    "The screen below allows you to input the five parameters required"
   ]
  },
  {
   "cell_type": "code",
   "execution_count": 4,
   "metadata": {},
   "outputs": [
    {
     "data": {
      "application/vnd.jupyter.widget-view+json": {
       "model_id": "f14e75c436754f3a95696a766521e850",
       "version_major": 2,
       "version_minor": 0
      },
      "text/plain": [
       "Tab(children=(QgridWidget(grid_options={'fullWidthRows': True, 'syncColumnCellResize': True, 'forceFitColumns'…"
      ]
     },
     "metadata": {},
     "output_type": "display_data"
    }
   ],
   "source": [
    "from quantlibapp.core import ConsumerLoan\n",
    "ConsumerLoanClass = ConsumerLoan()\n",
    "ConsumerLoanClass.input"
   ]
  },
  {
   "cell_type": "markdown",
   "metadata": {},
   "source": [
    "### Output\n",
    "The screen below will show you the loan schedule"
   ]
  },
  {
   "cell_type": "code",
   "execution_count": 6,
   "metadata": {},
   "outputs": [
    {
     "data": {
      "application/vnd.jupyter.widget-view+json": {
       "model_id": "18d9345c0dc24b32af7bc4257780ed6a",
       "version_major": 2,
       "version_minor": 0
      },
      "text/plain": [
       "QgridWidget(grid_options={'fullWidthRows': True, 'syncColumnCellResize': True, 'forceFitColumns': True, 'defau…"
      ]
     },
     "metadata": {},
     "output_type": "display_data"
    }
   ],
   "source": [
    "## Process and Get Output\n",
    "ConsumerLoanClass.process()\n",
    "qgrid.QgridWidget(df=ConsumerLoanClass.output)"
   ]
  }
 ],
 "metadata": {
  "kernelspec": {
   "display_name": "Python 3",
   "language": "python",
   "name": "python3"
  },
  "language_info": {
   "codemirror_mode": {
    "name": "ipython",
    "version": 3
   },
   "file_extension": ".py",
   "mimetype": "text/x-python",
   "name": "python",
   "nbconvert_exporter": "python",
   "pygments_lexer": "ipython3",
   "version": "3.6.2"
  }
 },
 "nbformat": 4,
 "nbformat_minor": 2
}
