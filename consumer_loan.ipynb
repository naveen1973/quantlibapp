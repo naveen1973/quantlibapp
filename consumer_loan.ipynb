{
 "cells": [
  {
   "cell_type": "markdown",
   "metadata": {},
   "source": [
    "# Loan Calculation Example \n",
    "\n",
    "```python\n",
    "from quantlibapp.core import ConsumerLoan\n",
    "```\n",
    "\n",
    "The class follows three steps\n",
    "1. ConsumerLoan.input\n",
    "2. ConsumerLoan.process()\n",
    "3. ConsumerLoan.output"
   ]
  },
  {
   "cell_type": "code",
   "execution_count": 1,
   "metadata": {},
   "outputs": [],
   "source": [
    "## Import packages\n",
    "# ! pip install git+https://github.com/quantransform/quantlibapp\n",
    "from quantlibapp.core import ConsumerLoan\n",
    "import qgrid"
   ]
  },
  {
   "cell_type": "code",
   "execution_count": 2,
   "metadata": {},
   "outputs": [
    {
     "data": {
      "application/vnd.jupyter.widget-view+json": {
       "model_id": "5f975ed230be47d8964db4b8a562e4ab",
       "version_major": 2,
       "version_minor": 0
      },
      "text/plain": [
       "Tab(children=(QgridWidget(grid_options={'fullWidthRows': True, 'syncColumnCellResize': True, 'forceFitColumns'…"
      ]
     },
     "metadata": {},
     "output_type": "display_data"
    }
   ],
   "source": [
    "from quantlibapp.core import ConsumerLoan\n",
    "ConsumerLoanClass = ConsumerLoan()\n",
    "ConsumerLoanClass.input"
   ]
  },
  {
   "cell_type": "code",
   "execution_count": 3,
   "metadata": {},
   "outputs": [
    {
     "data": {
      "application/vnd.jupyter.widget-view+json": {
       "model_id": "3049b13880f84cc58cc32e7b94f2af72",
       "version_major": 2,
       "version_minor": 0
      },
      "text/plain": [
       "QgridWidget(grid_options={'fullWidthRows': True, 'syncColumnCellResize': True, 'forceFitColumns': True, 'defau…"
      ]
     },
     "metadata": {},
     "output_type": "display_data"
    }
   ],
   "source": [
    "## Process and Get Output\n",
    "ConsumerLoanClass.process()\n",
    "qgrid.QgridWidget(df=ConsumerLoanClass.output)"
   ]
  },
  {
   "cell_type": "code",
   "execution_count": 4,
   "metadata": {},
   "outputs": [
    {
     "name": "stdout",
     "output_type": "stream",
     "text": [
      "\u001b[1m============================= test session starts ==============================\u001b[0m\n",
      "platform darwin -- Python 3.6.2, pytest-3.5.0, py-1.5.3, pluggy-0.6.0\n",
      "rootdir: /Users/jeremy/Desktop/quantlibapp, inifile:\n",
      "collected 13 items                                                             \u001b[0m\n",
      "\n",
      "tests/test_basic.py .............\u001b[36m                                        [100%]\u001b[0m\n",
      "\n",
      "\u001b[32m\u001b[1m========================== 13 passed in 9.81 seconds ===========================\u001b[0m\n"
     ]
    }
   ],
   "source": [
    "! pytest"
   ]
  }
 ],
 "metadata": {
  "kernelspec": {
   "display_name": "Python 3",
   "language": "python",
   "name": "python3"
  },
  "language_info": {
   "codemirror_mode": {
    "name": "ipython",
    "version": 3
   },
   "file_extension": ".py",
   "mimetype": "text/x-python",
   "name": "python",
   "nbconvert_exporter": "python",
   "pygments_lexer": "ipython3",
   "version": "3.6.2"
  }
 },
 "nbformat": 4,
 "nbformat_minor": 2
}
